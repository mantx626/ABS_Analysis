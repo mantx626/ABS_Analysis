{
 "cells": [
  {
   "cell_type": "code",
   "execution_count": 1,
   "metadata": {},
   "outputs": [],
   "source": [
    "import numpy as np"
   ]
  },
  {
   "cell_type": "code",
   "execution_count": 2,
   "metadata": {},
   "outputs": [],
   "source": [
    "import csv"
   ]
  },
  {
   "cell_type": "code",
   "execution_count": 15,
   "metadata": {},
   "outputs": [
    {
     "ename": "ValueError",
     "evalue": "invalid mode: ','",
     "output_type": "error",
     "traceback": [
      "\u001b[1;31m---------------------------------------------------------------------------\u001b[0m",
      "\u001b[1;31mValueError\u001b[0m                                Traceback (most recent call last)",
      "\u001b[1;32m<ipython-input-15-0f8d0a91eaa6>\u001b[0m in \u001b[0;36m<module>\u001b[1;34m\u001b[0m\n\u001b[1;32m----> 1\u001b[1;33m \u001b[0mcsvFile\u001b[0m \u001b[1;33m=\u001b[0m \u001b[0mopen\u001b[0m\u001b[1;33m(\u001b[0m\u001b[1;34mr\"C:\\Users\\MTX\\Desktop\\OneDrive - ITMO UNIVERSITY\\MTX\\paper20-medical\\code\\data\\data_csv\\KOS_Op_KS_1Gr_1P.csv\"\u001b[0m\u001b[1;33m,\u001b[0m\u001b[1;34m','\u001b[0m\u001b[1;33m)\u001b[0m\u001b[1;33m\u001b[0m\u001b[0m\n\u001b[0m",
      "\u001b[1;31mValueError\u001b[0m: invalid mode: ','"
     ]
    }
   ],
   "source": [
    "csvFile = open(r\"C:\\Users\\MTX\\Desktop\\OneDrive - ITMO UNIVERSITY\\MTX\\paper20-medical\\code\\data\\data_csv\\KOS_Op_KS_1Gr_1P.csv\",',')"
   ]
  },
  {
   "cell_type": "code",
   "execution_count": null,
   "metadata": {},
   "outputs": [],
   "source": []
  },
  {
   "cell_type": "code",
   "execution_count": 6,
   "metadata": {},
   "outputs": [],
   "source": [
    "reader = csv.reader(csvFile)"
   ]
  },
  {
   "cell_type": "code",
   "execution_count": 7,
   "metadata": {},
   "outputs": [
    {
     "name": "stdout",
     "output_type": "stream",
     "text": [
      "<class '_csv.reader'>\n"
     ]
    }
   ],
   "source": [
    "print(type(reader))"
   ]
  },
  {
   "cell_type": "code",
   "execution_count": 10,
   "metadata": {},
   "outputs": [
    {
     "ename": "TypeError",
     "evalue": "'_csv.reader' object is not subscriptable",
     "output_type": "error",
     "traceback": [
      "\u001b[1;31m---------------------------------------------------------------------------\u001b[0m",
      "\u001b[1;31mTypeError\u001b[0m                                 Traceback (most recent call last)",
      "\u001b[1;32m<ipython-input-10-0516de1718e0>\u001b[0m in \u001b[0;36m<module>\u001b[1;34m\u001b[0m\n\u001b[1;32m----> 1\u001b[1;33m \u001b[0mprint\u001b[0m\u001b[1;33m(\u001b[0m\u001b[0mreader\u001b[0m\u001b[1;33m[\u001b[0m\u001b[1;36m0\u001b[0m\u001b[1;33m]\u001b[0m\u001b[1;33m)\u001b[0m\u001b[1;33m\u001b[0m\u001b[0m\n\u001b[0m",
      "\u001b[1;31mTypeError\u001b[0m: '_csv.reader' object is not subscriptable"
     ]
    }
   ],
   "source": [
    "print(reader[0])"
   ]
  },
  {
   "cell_type": "code",
   "execution_count": 11,
   "metadata": {},
   "outputs": [],
   "source": [
    "import pandas as pd"
   ]
  },
  {
   "cell_type": "code",
   "execution_count": 19,
   "metadata": {},
   "outputs": [
    {
     "ename": "ParserError",
     "evalue": "Error tokenizing data. C error: Expected 1 fields in line 3, saw 21\n",
     "output_type": "error",
     "traceback": [
      "\u001b[1;31m---------------------------------------------------------------------------\u001b[0m",
      "\u001b[1;31mParserError\u001b[0m                               Traceback (most recent call last)",
      "\u001b[1;32m<ipython-input-19-830c59771f73>\u001b[0m in \u001b[0;36m<module>\u001b[1;34m\u001b[0m\n\u001b[1;32m----> 1\u001b[1;33m \u001b[0mdata\u001b[0m \u001b[1;33m=\u001b[0m \u001b[0mpd\u001b[0m\u001b[1;33m.\u001b[0m\u001b[0mread_csv\u001b[0m\u001b[1;33m(\u001b[0m\u001b[1;34mr\"C:\\Users\\MTX\\Desktop\\OneDrive - ITMO UNIVERSITY\\MTX\\paper20-medical\\code\\data\\data_csv\\KOS_Op_KS_1Gr_1P.csv\"\u001b[0m\u001b[1;33m,\u001b[0m\u001b[0msep\u001b[0m\u001b[1;33m=\u001b[0m\u001b[1;34m','\u001b[0m\u001b[1;33m)\u001b[0m\u001b[1;33m\u001b[0m\u001b[0m\n\u001b[0m",
      "\u001b[1;32mc:\\users\\mtx\\appdata\\local\\programs\\python\\python37\\lib\\site-packages\\pandas\\io\\parsers.py\u001b[0m in \u001b[0;36mparser_f\u001b[1;34m(filepath_or_buffer, sep, delimiter, header, names, index_col, usecols, squeeze, prefix, mangle_dupe_cols, dtype, engine, converters, true_values, false_values, skipinitialspace, skiprows, nrows, na_values, keep_default_na, na_filter, verbose, skip_blank_lines, parse_dates, infer_datetime_format, keep_date_col, date_parser, dayfirst, iterator, chunksize, compression, thousands, decimal, lineterminator, quotechar, quoting, escapechar, comment, encoding, dialect, tupleize_cols, error_bad_lines, warn_bad_lines, skipfooter, doublequote, delim_whitespace, low_memory, memory_map, float_precision)\u001b[0m\n\u001b[0;32m    676\u001b[0m                     skip_blank_lines=skip_blank_lines)\n\u001b[0;32m    677\u001b[0m \u001b[1;33m\u001b[0m\u001b[0m\n\u001b[1;32m--> 678\u001b[1;33m         \u001b[1;32mreturn\u001b[0m \u001b[0m_read\u001b[0m\u001b[1;33m(\u001b[0m\u001b[0mfilepath_or_buffer\u001b[0m\u001b[1;33m,\u001b[0m \u001b[0mkwds\u001b[0m\u001b[1;33m)\u001b[0m\u001b[1;33m\u001b[0m\u001b[0m\n\u001b[0m\u001b[0;32m    679\u001b[0m \u001b[1;33m\u001b[0m\u001b[0m\n\u001b[0;32m    680\u001b[0m     \u001b[0mparser_f\u001b[0m\u001b[1;33m.\u001b[0m\u001b[0m__name__\u001b[0m \u001b[1;33m=\u001b[0m \u001b[0mname\u001b[0m\u001b[1;33m\u001b[0m\u001b[0m\n",
      "\u001b[1;32mc:\\users\\mtx\\appdata\\local\\programs\\python\\python37\\lib\\site-packages\\pandas\\io\\parsers.py\u001b[0m in \u001b[0;36m_read\u001b[1;34m(filepath_or_buffer, kwds)\u001b[0m\n\u001b[0;32m    444\u001b[0m \u001b[1;33m\u001b[0m\u001b[0m\n\u001b[0;32m    445\u001b[0m     \u001b[1;32mtry\u001b[0m\u001b[1;33m:\u001b[0m\u001b[1;33m\u001b[0m\u001b[0m\n\u001b[1;32m--> 446\u001b[1;33m         \u001b[0mdata\u001b[0m \u001b[1;33m=\u001b[0m \u001b[0mparser\u001b[0m\u001b[1;33m.\u001b[0m\u001b[0mread\u001b[0m\u001b[1;33m(\u001b[0m\u001b[0mnrows\u001b[0m\u001b[1;33m)\u001b[0m\u001b[1;33m\u001b[0m\u001b[0m\n\u001b[0m\u001b[0;32m    447\u001b[0m     \u001b[1;32mfinally\u001b[0m\u001b[1;33m:\u001b[0m\u001b[1;33m\u001b[0m\u001b[0m\n\u001b[0;32m    448\u001b[0m         \u001b[0mparser\u001b[0m\u001b[1;33m.\u001b[0m\u001b[0mclose\u001b[0m\u001b[1;33m(\u001b[0m\u001b[1;33m)\u001b[0m\u001b[1;33m\u001b[0m\u001b[0m\n",
      "\u001b[1;32mc:\\users\\mtx\\appdata\\local\\programs\\python\\python37\\lib\\site-packages\\pandas\\io\\parsers.py\u001b[0m in \u001b[0;36mread\u001b[1;34m(self, nrows)\u001b[0m\n\u001b[0;32m   1034\u001b[0m                 \u001b[1;32mraise\u001b[0m \u001b[0mValueError\u001b[0m\u001b[1;33m(\u001b[0m\u001b[1;34m'skipfooter not supported for iteration'\u001b[0m\u001b[1;33m)\u001b[0m\u001b[1;33m\u001b[0m\u001b[0m\n\u001b[0;32m   1035\u001b[0m \u001b[1;33m\u001b[0m\u001b[0m\n\u001b[1;32m-> 1036\u001b[1;33m         \u001b[0mret\u001b[0m \u001b[1;33m=\u001b[0m \u001b[0mself\u001b[0m\u001b[1;33m.\u001b[0m\u001b[0m_engine\u001b[0m\u001b[1;33m.\u001b[0m\u001b[0mread\u001b[0m\u001b[1;33m(\u001b[0m\u001b[0mnrows\u001b[0m\u001b[1;33m)\u001b[0m\u001b[1;33m\u001b[0m\u001b[0m\n\u001b[0m\u001b[0;32m   1037\u001b[0m \u001b[1;33m\u001b[0m\u001b[0m\n\u001b[0;32m   1038\u001b[0m         \u001b[1;31m# May alter columns / col_dict\u001b[0m\u001b[1;33m\u001b[0m\u001b[1;33m\u001b[0m\u001b[0m\n",
      "\u001b[1;32mc:\\users\\mtx\\appdata\\local\\programs\\python\\python37\\lib\\site-packages\\pandas\\io\\parsers.py\u001b[0m in \u001b[0;36mread\u001b[1;34m(self, nrows)\u001b[0m\n\u001b[0;32m   1846\u001b[0m     \u001b[1;32mdef\u001b[0m \u001b[0mread\u001b[0m\u001b[1;33m(\u001b[0m\u001b[0mself\u001b[0m\u001b[1;33m,\u001b[0m \u001b[0mnrows\u001b[0m\u001b[1;33m=\u001b[0m\u001b[1;32mNone\u001b[0m\u001b[1;33m)\u001b[0m\u001b[1;33m:\u001b[0m\u001b[1;33m\u001b[0m\u001b[0m\n\u001b[0;32m   1847\u001b[0m         \u001b[1;32mtry\u001b[0m\u001b[1;33m:\u001b[0m\u001b[1;33m\u001b[0m\u001b[0m\n\u001b[1;32m-> 1848\u001b[1;33m             \u001b[0mdata\u001b[0m \u001b[1;33m=\u001b[0m \u001b[0mself\u001b[0m\u001b[1;33m.\u001b[0m\u001b[0m_reader\u001b[0m\u001b[1;33m.\u001b[0m\u001b[0mread\u001b[0m\u001b[1;33m(\u001b[0m\u001b[0mnrows\u001b[0m\u001b[1;33m)\u001b[0m\u001b[1;33m\u001b[0m\u001b[0m\n\u001b[0m\u001b[0;32m   1849\u001b[0m         \u001b[1;32mexcept\u001b[0m \u001b[0mStopIteration\u001b[0m\u001b[1;33m:\u001b[0m\u001b[1;33m\u001b[0m\u001b[0m\n\u001b[0;32m   1850\u001b[0m             \u001b[1;32mif\u001b[0m \u001b[0mself\u001b[0m\u001b[1;33m.\u001b[0m\u001b[0m_first_chunk\u001b[0m\u001b[1;33m:\u001b[0m\u001b[1;33m\u001b[0m\u001b[0m\n",
      "\u001b[1;32mpandas\\_libs\\parsers.pyx\u001b[0m in \u001b[0;36mpandas._libs.parsers.TextReader.read\u001b[1;34m()\u001b[0m\n",
      "\u001b[1;32mpandas\\_libs\\parsers.pyx\u001b[0m in \u001b[0;36mpandas._libs.parsers.TextReader._read_low_memory\u001b[1;34m()\u001b[0m\n",
      "\u001b[1;32mpandas\\_libs\\parsers.pyx\u001b[0m in \u001b[0;36mpandas._libs.parsers.TextReader._read_rows\u001b[1;34m()\u001b[0m\n",
      "\u001b[1;32mpandas\\_libs\\parsers.pyx\u001b[0m in \u001b[0;36mpandas._libs.parsers.TextReader._tokenize_rows\u001b[1;34m()\u001b[0m\n",
      "\u001b[1;32mpandas\\_libs\\parsers.pyx\u001b[0m in \u001b[0;36mpandas._libs.parsers.raise_parser_error\u001b[1;34m()\u001b[0m\n",
      "\u001b[1;31mParserError\u001b[0m: Error tokenizing data. C error: Expected 1 fields in line 3, saw 21\n"
     ]
    }
   ],
   "source": [
    "data = pd.read_csv(r\"C:\\Users\\MTX\\Desktop\\OneDrive - ITMO UNIVERSITY\\MTX\\paper20-medical\\code\\data\\data_csv\\KOS_Op_KS_1Gr_1P.csv\",sep=',')"
   ]
  },
  {
   "cell_type": "code",
   "execution_count": null,
   "metadata": {},
   "outputs": [],
   "source": []
  },
  {
   "cell_type": "code",
   "execution_count": null,
   "metadata": {},
   "outputs": [],
   "source": []
  },
  {
   "cell_type": "code",
   "execution_count": null,
   "metadata": {},
   "outputs": [],
   "source": []
  },
  {
   "cell_type": "code",
   "execution_count": null,
   "metadata": {},
   "outputs": [],
   "source": []
  },
  {
   "cell_type": "code",
   "execution_count": null,
   "metadata": {},
   "outputs": [],
   "source": []
  },
  {
   "cell_type": "code",
   "execution_count": 13,
   "metadata": {},
   "outputs": [
    {
     "name": "stdout",
     "output_type": "stream",
     "text": [
      "                                                                  髓耱1\n",
      "Numbe                                               of exempla  s: 10\n",
      "7.317,36.8,49.70,-1.3,-0.6,24.7,22.6,61.8,119,3... NaN            NaN\n",
      "7.224,46.0,64.40,-3.1,-1.1,25.7,21.3,71.9,144,4... NaN            NaN\n",
      "7.232,38.6,69.60,-0.3,1.4,28.2,23.5,62.2,116,35... NaN            NaN\n",
      "7.432,30.9,41.70,3.3,3.3,27.3,26.9,62.9,79,24.7... NaN            NaN\n",
      "7.217,38.8,69.30,-1.9,0.2,27.1,22.1,60.5,132,40... NaN            NaN\n",
      "7.303,43.4,60.70,2.2,3.3,29.2,26.0,73.5,108,33.... NaN            NaN\n",
      "7.294,34.7,57.50,-0.1,1.2,27.0,23.5,58.1,135,41... NaN            NaN\n",
      "7.301,27.0,56.70,0.1,1.4,27.1,23.2,40.2,140,43.... NaN            NaN\n",
      "7.318,32.8,49.80,-1.3,-0.6,24.8,22.5,54.0,127,3... NaN            NaN\n",
      "7.373,28.3,47.20,1.5,2.0,26.8,24.7,50.9,132,40.... NaN            NaN\n",
      "7.281,35.3,59.00,-0.3,0.9,26.9,23.5,62.1,122,37... NaN            NaN\n",
      "7.317,30.4,55.40,1.2,2.0,27.6,24.7,51.4,106,32.... NaN            NaN\n",
      "7.459,32.6,40.80,4.8,4.8,28.6,28.3,67.2,90,28.0... NaN            NaN\n",
      "7.308,28.0,54.90,0.1,1.1,26.7,23.4,47.2,126,38.... NaN            NaN\n",
      "7.241,41.4,68.30,-0.3,1.6,28.3,23.5,66.4,129,39... NaN            NaN\n",
      "7.308,31.2,54.70,-0.4,1.0,26.6,23.0,53.2,158,48... NaN            NaN\n",
      "7.336,30.1,47.80,-0.8,-0.3,24.8,23.1,61.1,118,3... NaN            NaN\n",
      "7.365,30.6,48.70,1.6,2.3,27.2,24.9,56.8,138,42.... NaN            NaN\n",
      "7.190,41.1,77.10,-1.7,0.8,28.3,22.1,58.8,135,41... NaN            NaN\n",
      "7.279,43.1,54.00,-2.0,-1.4,24.5,22.3,68.8,94,29... NaN            NaN\n",
      "7.335,32.3,48.90,-0.4,0.3,25.4,23.2,52.5,126,38... NaN            NaN\n",
      "7.221,42.3,58.80,-4.9,-3.4,23.2,19.8,65.2,132,4... NaN            NaN\n",
      "7.177,28.4,79.60,-2.4,0.7,28.4,20.9,33.8,148,45... NaN            NaN\n",
      "7.161,43.5,80.80,-3.1,-0.2,27.7,21.1,60.6,136,4... NaN            NaN\n",
      "7.312,36.3,60.30,2.3,3.9,29.6,25.4,54.5,139,42.... NaN            NaN\n",
      "7.275,43.7,57.60,-1.2,-0.1,25.9,22.8,63.6,115,3... NaN            NaN\n",
      "7.316,39.9,49.80,-1.4,-0.7,24.7,22.6,62.3,121,3... NaN            NaN\n",
      "7.290,35.2,57.90,-0.2,1.1,27.0,23.5,59.5,129,39... NaN            NaN\n",
      "7.280,26.3,64.10,1.1,3.0,29.2,23.9,38.3,145,44.... NaN            NaN\n"
     ]
    }
   ],
   "source": [
    "print(data)"
   ]
  },
  {
   "cell_type": "code",
   "execution_count": 32,
   "metadata": {},
   "outputs": [],
   "source": [
    "data = pd.read_csv(\"KOS_Op_KS_1Gr_1P.csv\", header=2, delimiter=\",\")"
   ]
  },
  {
   "cell_type": "code",
   "execution_count": 33,
   "metadata": {},
   "outputs": [
    {
     "name": "stdout",
     "output_type": "stream",
     "text": [
      "       1     2     3    4    5     6     7     8    9    10  ...    12    13  \\\n",
      "0  7.317  36.8  49.7 -1.3 -0.6  24.7  22.6  61.8  119  36.7  ...   138  1.17   \n",
      "1  7.224  46.0  64.4 -3.1 -1.1  25.7  21.3  71.9  144  44.1  ...   140  1.19   \n",
      "2  7.232  38.6  69.6 -0.3  1.4  28.2  23.5  62.2  116  35.7  ...   139  1.16   \n",
      "3  7.432  30.9  41.7  3.3  3.3  27.3  26.9  62.9   79  24.7  ...   135  0.93   \n",
      "4  7.217  38.8  69.3 -1.9  0.2  27.1  22.1  60.5  132  40.6  ...   136  1.16   \n",
      "\n",
      "    14   15   16     17     18     19    20    21  \n",
      "0  110  6.6  1.4  30.83  283.5  7.317  36.8  49.7  \n",
      "1  110  6.0  1.1  32.96  286.9  7.224  46.0  64.4  \n",
      "2  106  5.5  0.6  32.08  284.2  7.232  38.6  69.6  \n",
      "3  100  5.8  0.7  25.34  275.4  7.432  30.9  41.7  \n",
      "4  104  5.7  0.6  33.19  277.6  7.217  38.8  69.3  \n",
      "\n",
      "[5 rows x 21 columns]\n"
     ]
    }
   ],
   "source": [
    "print(data.head(5))"
   ]
  },
  {
   "cell_type": "code",
   "execution_count": 44,
   "metadata": {},
   "outputs": [
    {
     "name": "stdout",
     "output_type": "stream",
     "text": [
      "[  7.317  36.8    49.7    -1.3    -0.6    24.7    22.6    61.8   119.\n",
      "  36.7     4.7   138.      1.17  110.      6.6     1.4    30.83  283.5\n",
      "   7.317  36.8    49.7  ]\n"
     ]
    }
   ],
   "source": [
    "a = data.values\n",
    "print(a[0])"
   ]
  },
  {
   "cell_type": "code",
   "execution_count": null,
   "metadata": {},
   "outputs": [],
   "source": []
  },
  {
   "cell_type": "code",
   "execution_count": null,
   "metadata": {},
   "outputs": [],
   "source": []
  },
  {
   "cell_type": "code",
   "execution_count": null,
   "metadata": {},
   "outputs": [],
   "source": []
  },
  {
   "cell_type": "code",
   "execution_count": 38,
   "metadata": {},
   "outputs": [
    {
     "name": "stdout",
     "output_type": "stream",
     "text": [
      "(21, 21)\n",
      "<class 'pandas.core.frame.DataFrame'>\n"
     ]
    }
   ],
   "source": [
    "c = data.corr()\n",
    "print(c.shape)\n",
    "print(type(c))\n",
    "c_matrix = c.values"
   ]
  },
  {
   "cell_type": "code",
   "execution_count": null,
   "metadata": {},
   "outputs": [],
   "source": []
  },
  {
   "cell_type": "code",
   "execution_count": null,
   "metadata": {},
   "outputs": [],
   "source": []
  },
  {
   "cell_type": "code",
   "execution_count": null,
   "metadata": {},
   "outputs": [],
   "source": []
  },
  {
   "cell_type": "code",
   "execution_count": 47,
   "metadata": {},
   "outputs": [
    {
     "ename": "AttributeError",
     "evalue": "'numpy.ndarray' object has no attribute 'I'",
     "output_type": "error",
     "traceback": [
      "\u001b[1;31m---------------------------------------------------------------------------\u001b[0m",
      "\u001b[1;31mAttributeError\u001b[0m                            Traceback (most recent call last)",
      "\u001b[1;32m<ipython-input-47-2db29e0e396f>\u001b[0m in \u001b[0;36m<module>\u001b[1;34m\u001b[0m\n\u001b[1;32m----> 1\u001b[1;33m \u001b[0mresult\u001b[0m \u001b[1;33m=\u001b[0m \u001b[1;33m(\u001b[0m\u001b[0ma\u001b[0m\u001b[1;33m[\u001b[0m\u001b[1;36m0\u001b[0m\u001b[1;33m]\u001b[0m\u001b[1;33m.\u001b[0m\u001b[0mT\u001b[0m\u001b[1;33m)\u001b[0m\u001b[1;33m*\u001b[0m\u001b[0mc_matrix\u001b[0m\u001b[1;33m.\u001b[0m\u001b[0mI\u001b[0m\u001b[1;33m*\u001b[0m\u001b[1;33m(\u001b[0m\u001b[0ma\u001b[0m\u001b[1;33m[\u001b[0m\u001b[1;36m0\u001b[0m\u001b[1;33m]\u001b[0m\u001b[1;33m)\u001b[0m\u001b[1;33m\u001b[0m\u001b[0m\n\u001b[0m\u001b[0;32m      2\u001b[0m \u001b[0mprint\u001b[0m\u001b[1;33m(\u001b[0m\u001b[0mresult\u001b[0m\u001b[1;33m.\u001b[0m\u001b[0mshape\u001b[0m\u001b[1;33m)\u001b[0m\u001b[1;33m\u001b[0m\u001b[0m\n",
      "\u001b[1;31mAttributeError\u001b[0m: 'numpy.ndarray' object has no attribute 'I'"
     ]
    }
   ],
   "source": [
    "result = (a[0].T)*c_matrix*(a[0])\n",
    "print(result.shape)"
   ]
  },
  {
   "cell_type": "code",
   "execution_count": 48,
   "metadata": {},
   "outputs": [
    {
     "ename": "LinAlgError",
     "evalue": "Singular matrix",
     "output_type": "error",
     "traceback": [
      "\u001b[1;31m---------------------------------------------------------------------------\u001b[0m",
      "\u001b[1;31mLinAlgError\u001b[0m                               Traceback (most recent call last)",
      "\u001b[1;32m<ipython-input-48-98a63a358c57>\u001b[0m in \u001b[0;36m<module>\u001b[1;34m\u001b[0m\n\u001b[1;32m----> 1\u001b[1;33m \u001b[0mc_inv\u001b[0m \u001b[1;33m=\u001b[0m \u001b[0mnp\u001b[0m\u001b[1;33m.\u001b[0m\u001b[0mlinalg\u001b[0m\u001b[1;33m.\u001b[0m\u001b[0minv\u001b[0m\u001b[1;33m(\u001b[0m\u001b[0mc_matrix\u001b[0m\u001b[1;33m)\u001b[0m\u001b[1;33m\u001b[0m\u001b[0m\n\u001b[0m\u001b[0;32m      2\u001b[0m \u001b[0mprint\u001b[0m\u001b[1;33m(\u001b[0m\u001b[0mc_inv\u001b[0m\u001b[1;33m.\u001b[0m\u001b[0mshape\u001b[0m\u001b[1;33m)\u001b[0m\u001b[1;33m\u001b[0m\u001b[0m\n",
      "\u001b[1;32mc:\\users\\mtx\\appdata\\local\\programs\\python\\python37\\lib\\site-packages\\numpy\\linalg\\linalg.py\u001b[0m in \u001b[0;36minv\u001b[1;34m(a)\u001b[0m\n\u001b[0;32m    549\u001b[0m     \u001b[0msignature\u001b[0m \u001b[1;33m=\u001b[0m \u001b[1;34m'D->D'\u001b[0m \u001b[1;32mif\u001b[0m \u001b[0misComplexType\u001b[0m\u001b[1;33m(\u001b[0m\u001b[0mt\u001b[0m\u001b[1;33m)\u001b[0m \u001b[1;32melse\u001b[0m \u001b[1;34m'd->d'\u001b[0m\u001b[1;33m\u001b[0m\u001b[0m\n\u001b[0;32m    550\u001b[0m     \u001b[0mextobj\u001b[0m \u001b[1;33m=\u001b[0m \u001b[0mget_linalg_error_extobj\u001b[0m\u001b[1;33m(\u001b[0m\u001b[0m_raise_linalgerror_singular\u001b[0m\u001b[1;33m)\u001b[0m\u001b[1;33m\u001b[0m\u001b[0m\n\u001b[1;32m--> 551\u001b[1;33m     \u001b[0mainv\u001b[0m \u001b[1;33m=\u001b[0m \u001b[0m_umath_linalg\u001b[0m\u001b[1;33m.\u001b[0m\u001b[0minv\u001b[0m\u001b[1;33m(\u001b[0m\u001b[0ma\u001b[0m\u001b[1;33m,\u001b[0m \u001b[0msignature\u001b[0m\u001b[1;33m=\u001b[0m\u001b[0msignature\u001b[0m\u001b[1;33m,\u001b[0m \u001b[0mextobj\u001b[0m\u001b[1;33m=\u001b[0m\u001b[0mextobj\u001b[0m\u001b[1;33m)\u001b[0m\u001b[1;33m\u001b[0m\u001b[0m\n\u001b[0m\u001b[0;32m    552\u001b[0m     \u001b[1;32mreturn\u001b[0m \u001b[0mwrap\u001b[0m\u001b[1;33m(\u001b[0m\u001b[0mainv\u001b[0m\u001b[1;33m.\u001b[0m\u001b[0mastype\u001b[0m\u001b[1;33m(\u001b[0m\u001b[0mresult_t\u001b[0m\u001b[1;33m,\u001b[0m \u001b[0mcopy\u001b[0m\u001b[1;33m=\u001b[0m\u001b[1;32mFalse\u001b[0m\u001b[1;33m)\u001b[0m\u001b[1;33m)\u001b[0m\u001b[1;33m\u001b[0m\u001b[0m\n\u001b[0;32m    553\u001b[0m \u001b[1;33m\u001b[0m\u001b[0m\n",
      "\u001b[1;32mc:\\users\\mtx\\appdata\\local\\programs\\python\\python37\\lib\\site-packages\\numpy\\linalg\\linalg.py\u001b[0m in \u001b[0;36m_raise_linalgerror_singular\u001b[1;34m(err, flag)\u001b[0m\n\u001b[0;32m     95\u001b[0m \u001b[1;33m\u001b[0m\u001b[0m\n\u001b[0;32m     96\u001b[0m \u001b[1;32mdef\u001b[0m \u001b[0m_raise_linalgerror_singular\u001b[0m\u001b[1;33m(\u001b[0m\u001b[0merr\u001b[0m\u001b[1;33m,\u001b[0m \u001b[0mflag\u001b[0m\u001b[1;33m)\u001b[0m\u001b[1;33m:\u001b[0m\u001b[1;33m\u001b[0m\u001b[0m\n\u001b[1;32m---> 97\u001b[1;33m     \u001b[1;32mraise\u001b[0m \u001b[0mLinAlgError\u001b[0m\u001b[1;33m(\u001b[0m\u001b[1;34m\"Singular matrix\"\u001b[0m\u001b[1;33m)\u001b[0m\u001b[1;33m\u001b[0m\u001b[0m\n\u001b[0m\u001b[0;32m     98\u001b[0m \u001b[1;33m\u001b[0m\u001b[0m\n\u001b[0;32m     99\u001b[0m \u001b[1;32mdef\u001b[0m \u001b[0m_raise_linalgerror_nonposdef\u001b[0m\u001b[1;33m(\u001b[0m\u001b[0merr\u001b[0m\u001b[1;33m,\u001b[0m \u001b[0mflag\u001b[0m\u001b[1;33m)\u001b[0m\u001b[1;33m:\u001b[0m\u001b[1;33m\u001b[0m\u001b[0m\n",
      "\u001b[1;31mLinAlgError\u001b[0m: Singular matrix"
     ]
    }
   ],
   "source": [
    "c_inv = np.linalg.inv(c_matrix)\n",
    "print(c_inv.shape)"
   ]
  },
  {
   "cell_type": "code",
   "execution_count": null,
   "metadata": {},
   "outputs": [],
   "source": []
  },
  {
   "cell_type": "code",
   "execution_count": null,
   "metadata": {},
   "outputs": [],
   "source": []
  },
  {
   "cell_type": "code",
   "execution_count": null,
   "metadata": {},
   "outputs": [],
   "source": []
  },
  {
   "cell_type": "code",
   "execution_count": null,
   "metadata": {},
   "outputs": [],
   "source": []
  },
  {
   "cell_type": "code",
   "execution_count": null,
   "metadata": {},
   "outputs": [],
   "source": []
  },
  {
   "cell_type": "code",
   "execution_count": null,
   "metadata": {},
   "outputs": [],
   "source": []
  },
  {
   "cell_type": "code",
   "execution_count": null,
   "metadata": {},
   "outputs": [],
   "source": []
  },
  {
   "cell_type": "code",
   "execution_count": null,
   "metadata": {},
   "outputs": [],
   "source": []
  },
  {
   "cell_type": "code",
   "execution_count": 22,
   "metadata": {},
   "outputs": [
    {
     "name": "stdout",
     "output_type": "stream",
     "text": [
      "    7.317  36.8  49.70  -1.3  -0.6  24.7  22.6  61.8  119  36.7  ...   138  \\\n",
      "0   7.224  46.0   64.4  -3.1  -1.1  25.7  21.3  71.9  144  44.1  ...   140   \n",
      "1   7.232  38.6   69.6  -0.3   1.4  28.2  23.5  62.2  116  35.7  ...   139   \n",
      "2   7.432  30.9   41.7   3.3   3.3  27.3  26.9  62.9   79  24.7  ...   135   \n",
      "3   7.217  38.8   69.3  -1.9   0.2  27.1  22.1  60.5  132  40.6  ...   136   \n",
      "4   7.303  43.4   60.7   2.2   3.3  29.2  26.0  73.5  108  33.2  ...   135   \n",
      "5   7.294  34.7   57.5  -0.1   1.2  27.0  23.5  58.1  135  41.5  ...   139   \n",
      "6   7.301  27.0   56.7   0.1   1.4  27.1  23.2  40.2  140  43.1  ...   135   \n",
      "7   7.318  32.8   49.8  -1.3  -0.6  24.8  22.5  54.0  127  39.0  ...   138   \n",
      "8   7.373  28.3   47.2   1.5   2.0  26.8  24.7  50.9  132  40.7  ...   133   \n",
      "9   7.281  35.3   59.0  -0.3   0.9  26.9  23.5  62.1  122  37.5  ...   136   \n",
      "10  7.317  30.4   55.4   1.2   2.0  27.6  24.7  51.4  106  32.9  ...   134   \n",
      "11  7.459  32.6   40.8   4.8   4.8  28.6  28.3  67.2   90  28.0  ...   131   \n",
      "12  7.308  28.0   54.9   0.1   1.1  26.7  23.4  47.2  126  38.9  ...   139   \n",
      "13  7.241  41.4   68.3  -0.3   1.6  28.3  23.5  66.4  129  39.7  ...   139   \n",
      "14  7.308  31.2   54.7  -0.4   1.0  26.6  23.0  53.2  158  48.3  ...   141   \n",
      "15  7.336  30.1   47.8  -0.8  -0.3  24.8  23.1  61.1  118  36.4  ...   137   \n",
      "16  7.365  30.6   48.7   1.6   2.3  27.2  24.9  56.8  138  42.4  ...   142   \n",
      "17  7.190  41.1   77.1  -1.7   0.8  28.3  22.1  58.8  135  41.3  ...   140   \n",
      "18  7.279  43.1   54.0  -2.0  -1.4  24.5  22.3  68.8   94  29.2  ...   137   \n",
      "19  7.335  32.3   48.9  -0.4   0.3  25.4  23.2  52.5  126  38.8  ...   136   \n",
      "20  7.221  42.3   58.8  -4.9  -3.4  23.2  19.8  65.2  132  40.5  ...   137   \n",
      "21  7.177  28.4   79.6  -2.4   0.7  28.4  20.9  33.8  148  45.3  ...   137   \n",
      "22  7.161  43.5   80.8  -3.1  -0.2  27.7  21.1  60.6  136  41.9  ...   138   \n",
      "23  7.312  36.3   60.3   2.3   3.9  29.6  25.4  54.5  139  42.7  ...   136   \n",
      "24  7.275  43.7   57.6  -1.2  -0.1  25.9  22.8  63.6  115  35.5  ...   136   \n",
      "25  7.316  39.9   49.8  -1.4  -0.7  24.7  22.6  62.3  121  37.4  ...   136   \n",
      "26  7.290  35.2   57.9  -0.2   1.1  27.0  23.5  59.5  129  39.7  ...   140   \n",
      "27  7.280  26.3   64.1   1.1   3.0  29.2  23.9  38.3  145  44.5  ...   136   \n",
      "\n",
      "    1.17  110  6.6  1.4  30.83  283.5  7.317.1  36.8.1  49.7  \n",
      "0   1.19  110  6.0  1.1  32.96  286.9    7.224    46.0  64.4  \n",
      "1   1.16  106  5.5  0.6  32.08  284.2    7.232    38.6  69.6  \n",
      "2   0.93  100  5.8  0.7  25.34  275.4    7.432    30.9  41.7  \n",
      "3   1.16  104  5.7  0.6  33.19  277.6    7.217    38.8  69.3  \n",
      "4   0.97  102  5.4  0.6  30.05  276.4    7.303    43.4  60.7  \n",
      "5   1.17  107  6.5  0.8  30.83  285.3    7.294    34.7  57.5  \n",
      "6   1.13  104  5.7  1.2  31.41  274.9    7.301    27.0  56.7  \n",
      "7   1.37  109  7.0  1.4  30.93  283.6    7.318    32.8  49.8  \n",
      "8   1.11  113  5.6  1.1  27.87  270.7    7.373    28.3  47.2  \n",
      "9   1.16  103  5.4  1.1  29.45  276.9    7.281    35.3  59.0  \n",
      "10  0.95  102  5.0  0.6  29.79  272.8    7.317    30.4  55.4  \n",
      "11  0.97   98  4.8  0.8  24.76  265.8    7.459    32.6  40.8  \n",
      "12  1.22  105  7.1  1.0  29.24  284.7    7.308    28.0  54.9  \n",
      "13  1.18  107  6.0  0.9  32.34  284.3    7.241    41.4  68.3  \n",
      "14  1.16  112  6.1  0.9  29.74  287.7    7.308    31.2  54.7  \n",
      "15  1.07  108  5.3  0.9  25.36  280.2    7.336    30.1  47.8  \n",
      "16  1.21  107  6.6  1.1  27.54  291.1    7.365    30.6  48.7  \n",
      "17  1.18  108  6.8  0.4  36.17  286.1    7.190    41.1  77.1  \n",
      "18  1.35  109  5.7  0.7  32.54  280.4    7.279    43.1  54.0  \n",
      "19  1.17  107  6.4  0.5  31.12  279.3    7.335    32.3  48.9  \n",
      "20  1.13  117  5.9  0.8  33.84  279.0    7.221    42.3  58.8  \n",
      "21  1.17  111  6.7  0.6  36.44  280.0    7.177    28.4  79.6  \n",
      "22  1.21  113  6.4  0.4  37.35  282.1    7.161    43.5  80.8  \n",
      "23  1.17  112  6.0  1.0  33.98  278.9    7.312    36.3  60.3  \n",
      "24  1.35  111  5.6  0.6  35.90  277.0    7.275    43.7  57.6  \n",
      "25  1.07  116  6.2  0.7  33.26  277.5    7.316    39.9  49.8  \n",
      "26  1.16  125  5.7  0.6  30.50  284.8    7.290    35.2  57.9  \n",
      "27  1.21  115  6.0  0.7  31.54  278.1    7.280    26.3  64.1  \n",
      "\n",
      "[28 rows x 21 columns]\n"
     ]
    }
   ],
   "source": [
    "print(data)"
   ]
  },
  {
   "cell_type": "code",
   "execution_count": null,
   "metadata": {},
   "outputs": [],
   "source": []
  },
  {
   "cell_type": "code",
   "execution_count": null,
   "metadata": {},
   "outputs": [],
   "source": []
  },
  {
   "cell_type": "code",
   "execution_count": null,
   "metadata": {},
   "outputs": [],
   "source": []
  },
  {
   "cell_type": "code",
   "execution_count": null,
   "metadata": {},
   "outputs": [],
   "source": []
  },
  {
   "cell_type": "code",
   "execution_count": null,
   "metadata": {},
   "outputs": [],
   "source": []
  },
  {
   "cell_type": "code",
   "execution_count": null,
   "metadata": {},
   "outputs": [],
   "source": []
  }
 ],
 "metadata": {
  "kernelspec": {
   "display_name": "Python 3",
   "language": "python",
   "name": "python3"
  },
  "language_info": {
   "codemirror_mode": {
    "name": "ipython",
    "version": 3
   },
   "file_extension": ".py",
   "mimetype": "text/x-python",
   "name": "python",
   "nbconvert_exporter": "python",
   "pygments_lexer": "ipython3",
   "version": "3.7.0"
  }
 },
 "nbformat": 4,
 "nbformat_minor": 4
}
